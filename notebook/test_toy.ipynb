{
 "cells": [
  {
   "cell_type": "code",
   "execution_count": 1,
   "id": "88c97ec9-3d1b-49be-bc30-9d3a31adb618",
   "metadata": {},
   "outputs": [],
   "source": [
    "import pytoy as pt"
   ]
  },
  {
   "cell_type": "code",
   "execution_count": 2,
   "id": "ec74daed-02e9-4f4c-a574-36b3870157b5",
   "metadata": {},
   "outputs": [
    {
     "data": {
      "text/plain": [
       "{'ell': array([0, 1, 2, 3, 4, 5, 6, 7, 8, 9]),\n",
       " 'Cl': array([ 0.,  6., 12., 18., 24., 30., 36., 42., 48., 54.,  0.])}"
      ]
     },
     "execution_count": 2,
     "metadata": {},
     "output_type": "execute_result"
    }
   ],
   "source": [
    "cl_size = 10\n",
    "norm = 2\n",
    "factor =3\n",
    "\n",
    "CPT = pt.Compute()\n",
    "CPT.set(cl_size=cl_size, norm=norm, factor=factor)\n",
    "CPT.calculate_pspec()"
   ]
  },
  {
   "cell_type": "code",
   "execution_count": 5,
   "id": "1a2c21cf-fa1d-4ab4-a3ea-9f961f1e48de",
   "metadata": {},
   "outputs": [
    {
     "name": "stdout",
     "output_type": "stream",
     "text": [
      "0\n",
      "1\n",
      "2\n",
      "3\n",
      "4\n",
      "5\n",
      "6\n",
      "7\n",
      "8\n",
      "9\n"
     ]
    }
   ],
   "source": [
    "for i in range(cl_size):\n",
    "    print(i)"
   ]
  },
  {
   "cell_type": "code",
   "execution_count": null,
   "id": "c578e9a2-e8c5-42aa-8041-a67dfe2276c2",
   "metadata": {},
   "outputs": [],
   "source": []
  }
 ],
 "metadata": {
  "kernelspec": {
   "display_name": "Python 3",
   "language": "python",
   "name": "python3"
  },
  "language_info": {
   "codemirror_mode": {
    "name": "ipython",
    "version": 3
   },
   "file_extension": ".py",
   "mimetype": "text/x-python",
   "name": "python",
   "nbconvert_exporter": "python",
   "pygments_lexer": "ipython3",
   "version": "3.8.8"
  }
 },
 "nbformat": 4,
 "nbformat_minor": 5
}
