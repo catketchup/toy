{
 "cells": [
  {
   "cell_type": "code",
   "execution_count": 1,
   "id": "88c97ec9-3d1b-49be-bc30-9d3a31adb618",
   "metadata": {},
   "outputs": [],
   "source": [
    "import pytoy as pt\n",
    "import matplotlib.pyplot as plt\n",
    "import numpy as np"
   ]
  },
  {
   "cell_type": "code",
   "execution_count": 2,
   "id": "ec74daed-02e9-4f4c-a574-36b3870157b5",
   "metadata": {},
   "outputs": [
    {
     "name": "stdout",
     "output_type": "stream",
     "text": [
      "50\n"
     ]
    }
   ],
   "source": [
    "cl_size = 50\n",
    "norm = 2\n",
    "factor =0.2\n",
    "\n",
    "CPT = pt.Compute()\n",
    "CPT.set(cl_size=cl_size, norm=norm, factor=factor)\n",
    "CPT.get_cl_size()"
   ]
  },
  {
   "cell_type": "code",
   "execution_count": 3,
   "id": "93077e2a-2d26-4c86-a4ea-754761923904",
   "metadata": {},
   "outputs": [],
   "source": [
    "l = np.arange(0.,cl_size)\n",
    "\n",
    "# ClA = l**0.5 * np.exp(-l**2/2./130.**2) *1e-10\n",
    "# ClB = np.exp(-l**2/2./100.**2) * 1e-9\n",
    "# ClAB = 0.5 * np.sqrt(ClA * ClB)\n",
    "ClA = l\n",
    "ClB = l\n",
    "ClAB = 2*l\n",
    "ClBA = -2*l"
   ]
  },
  {
   "cell_type": "code",
   "execution_count": 4,
   "id": "b58a2e47-a58a-4cd5-a508-544788457e2b",
   "metadata": {},
   "outputs": [],
   "source": [
    "Cl_test = CPT.calculate_exp_pspec(ClA)"
   ]
  },
  {
   "cell_type": "code",
   "execution_count": 5,
   "id": "b7ab9c51-fe18-46cf-a83c-70abec11f5b2",
   "metadata": {},
   "outputs": [
    {
     "name": "stdout",
     "output_type": "stream",
     "text": [
      "Hello, NN!\n"
     ]
    },
    {
     "data": {
      "text/plain": [
       "3.0"
      ]
     },
     "execution_count": 5,
     "metadata": {},
     "output_type": "execute_result"
    }
   ],
   "source": [
    "TEST = pt.Test_Compute(1, 2)\n",
    "TEST.greet()\n",
    "TEST.add()"
   ]
  },
  {
   "cell_type": "code",
   "execution_count": 6,
   "id": "f081bcbe-d8a4-4a7c-9d80-442fc2eacd01",
   "metadata": {},
   "outputs": [
    {
     "data": {
      "text/plain": [
       "<matplotlib.legend.Legend at 0x7f36f1e330a0>"
      ]
     },
     "execution_count": 6,
     "metadata": {},
     "output_type": "execute_result"
    },
    {
     "data": {
      "image/png": "[encoded data removed]",
      "text/plain": [
       "<Figure size 432x288 with 1 Axes>"
      ]
     },
     "metadata": {
      "needs_background": "light"
     },
     "output_type": "display_data"
    }
   ],
   "source": [
    "plt.plot(Cl_test['ell'], Cl_test['Cl'], label='pytoy exp fx')\n",
    "plt.plot(Cl_test['ell'], norm*np.exp(factor*Cl_test['ell']), label='numpy exp')\n",
    "plt.legend()\n",
    "# plt.yscale('log')"
   ]
  },
  {
   "cell_type": "code",
   "execution_count": 7,
   "id": "16a739b8-f037-408c-b474-66cd9339c3d9",
   "metadata": {},
   "outputs": [],
   "source": [
    "Cl_in = np.array([[ ClA, ClBA ],[ClAB, ClB]])"
   ]
  },
  {
   "cell_type": "code",
   "execution_count": 8,
   "id": "7ee02043-fa70-476c-8003-c7264d52b2df",
   "metadata": {},
   "outputs": [],
   "source": [
    "Cl_out = CPT.test_ndarray(2, Cl_in)"
   ]
  },
  {
   "cell_type": "code",
   "execution_count": 9,
   "id": "55a04df7-cf91-4529-9dd6-3d877a10ebf7",
   "metadata": {},
   "outputs": [
    {
     "data": {
      "text/plain": [
       "array([[[  0.,   1.,   2.,   3.,   4.,   5.,   6.,   7.,   8.,   9.,\n",
       "          10.,  11.,  12.,  13.,  14.,  15.,  16.,  17.,  18.,  19.,\n",
       "          20.,  21.,  22.,  23.,  24.,  25.,  26.,  27.,  28.,  29.,\n",
       "          30.,  31.,  32.,  33.,  34.,  35.,  36.,  37.,  38.,  39.,\n",
       "          40.,  41.,  42.,  43.,  44.,  45.,  46.,  47.,  48.,  49.],\n",
       "        [ -0.,  -2.,  -4.,  -6.,  -8., -10., -12., -14., -16., -18.,\n",
       "         -20., -22., -24., -26., -28., -30., -32., -34., -36., -38.,\n",
       "         -40., -42., -44., -46., -48., -50., -52., -54., -56., -58.,\n",
       "         -60., -62., -64., -66., -68., -70., -72., -74., -76., -78.,\n",
       "         -80., -82., -84., -86., -88., -90., -92., -94., -96., -98.]],\n",
       "\n",
       "       [[  0.,   2.,   4.,   6.,   8.,  10.,  12.,  14.,  16.,  18.,\n",
       "          20.,  22.,  24.,  26.,  28.,  30.,  32.,  34.,  36.,  38.,\n",
       "          40.,  42.,  44.,  46.,  48.,  50.,  52.,  54.,  56.,  58.,\n",
       "          60.,  62.,  64.,  66.,  68.,  70.,  72.,  74.,  76.,  78.,\n",
       "          80.,  82.,  84.,  86.,  88.,  90.,  92.,  94.,  96.,  98.],\n",
       "        [  0.,   1.,   2.,   3.,   4.,   5.,   6.,   7.,   8.,   9.,\n",
       "          10.,  11.,  12.,  13.,  14.,  15.,  16.,  17.,  18.,  19.,\n",
       "          20.,  21.,  22.,  23.,  24.,  25.,  26.,  27.,  28.,  29.,\n",
       "          30.,  31.,  32.,  33.,  34.,  35.,  36.,  37.,  38.,  39.,\n",
       "          40.,  41.,  42.,  43.,  44.,  45.,  46.,  47.,  48.,  49.]]])"
      ]
     },
     "execution_count": 9,
     "metadata": {},
     "output_type": "execute_result"
    }
   ],
   "source": [
    "Cl_in"
   ]
  },
  {
   "cell_type": "code",
   "execution_count": 10,
   "id": "91ac329b-c8b1-4937-9d95-3d9ee9e2d8ef",
   "metadata": {},
   "outputs": [
    {
     "data": {
      "text/plain": [
       "array([ 0.,  1.,  2.,  3.,  4.,  5.,  6.,  7.,  8.,  9., 10., 11., 12.,\n",
       "       13., 14., 15., 16., 17., 18., 19., 20., 21., 22., 23., 24., 25.,\n",
       "       26., 27., 28., 29., 30., 31., 32., 33., 34., 35., 36., 37., 38.,\n",
       "       39., 40., 41., 42., 43., 44., 45., 46., 47., 48., 49.])"
      ]
     },
     "execution_count": 10,
     "metadata": {},
     "output_type": "execute_result"
    }
   ],
   "source": [
    "Cl_out[0:50]"
   ]
  },
  {
   "cell_type": "code",
   "execution_count": 11,
   "id": "a18cedd9-c44f-4e7d-ad6c-982b6f4b4676",
   "metadata": {},
   "outputs": [
    {
     "data": {
      "text/plain": [
       "array([ -0.,  -2.,  -4.,  -6.,  -8., -10., -12., -14., -16., -18., -20.,\n",
       "       -22., -24., -26., -28., -30., -32., -34., -36., -38., -40., -42.,\n",
       "       -44., -46., -48., -50., -52., -54., -56., -58., -60., -62., -64.,\n",
       "       -66., -68., -70., -72., -74., -76., -78., -80., -82., -84., -86.,\n",
       "       -88., -90., -92., -94., -96., -98.])"
      ]
     },
     "execution_count": 11,
     "metadata": {},
     "output_type": "execute_result"
    }
   ],
   "source": [
    "Cl_out[50:100]"
   ]
  },
  {
   "cell_type": "code",
   "execution_count": 12,
   "id": "aef32551-5915-476b-b49f-b6889916156d",
   "metadata": {},
   "outputs": [
    {
     "data": {
      "text/plain": [
       "array([ 0.,  2.,  4.,  6.,  8., 10., 12., 14., 16., 18., 20., 22., 24.,\n",
       "       26., 28., 30., 32., 34., 36., 38., 40., 42., 44., 46., 48., 50.,\n",
       "       52., 54., 56., 58., 60., 62., 64., 66., 68., 70., 72., 74., 76.,\n",
       "       78., 80., 82., 84., 86., 88., 90., 92., 94., 96., 98.])"
      ]
     },
     "execution_count": 12,
     "metadata": {},
     "output_type": "execute_result"
    }
   ],
   "source": [
    "Cl_out[100:150]"
   ]
  },
  {
   "cell_type": "code",
   "execution_count": 13,
   "id": "ca2e57f9-586e-4533-9045-6b7907f5e4e9",
   "metadata": {},
   "outputs": [
    {
     "data": {
      "text/plain": [
       "array([ 0.,  1.,  2.,  3.,  4.,  5.,  6.,  7.,  8.,  9., 10., 11., 12.,\n",
       "       13., 14., 15., 16., 17., 18., 19., 20., 21., 22., 23., 24., 25.,\n",
       "       26., 27., 28., 29., 30., 31., 32., 33., 34., 35., 36., 37., 38.,\n",
       "       39., 40., 41., 42., 43., 44., 45., 46., 47., 48., 49.])"
      ]
     },
     "execution_count": 13,
     "metadata": {},
     "output_type": "execute_result"
    }
   ],
   "source": [
    "Cl_out[150:200]"
   ]
  },
  {
   "cell_type": "code",
   "execution_count": null,
   "id": "4f60d6e8-7180-46f5-977a-ac0d828e3326",
   "metadata": {},
   "outputs": [],
   "source": []
  }
 ],
 "metadata": {
  "kernelspec": {
   "display_name": "Python 3",
   "language": "python",
   "name": "python3"
  },
  "language_info": {
   "codemirror_mode": {
    "name": "ipython",
    "version": 3
   },
   "file_extension": ".py",
   "mimetype": "text/x-python",
   "name": "python",
   "nbconvert_exporter": "python",
   "pygments_lexer": "ipython3",
   "version": "3.8.8"
  }
 },
 "nbformat": 4,
 "nbformat_minor": 5
}
