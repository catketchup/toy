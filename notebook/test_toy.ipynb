{
 "cells": [
  {
   "cell_type": "code",
   "execution_count": 1,
   "id": "88c97ec9-3d1b-49be-bc30-9d3a31adb618",
   "metadata": {},
   "outputs": [],
   "source": [
    "import pytoy as pt\n",
    "import matplotlib.pyplot as plt\n",
    "import numpy as np"
   ]
  },
  {
   "cell_type": "code",
   "execution_count": 2,
   "id": "ec74daed-02e9-4f4c-a574-36b3870157b5",
   "metadata": {},
   "outputs": [
    {
     "name": "stdout",
     "output_type": "stream",
     "text": [
      "20\n"
     ]
    }
   ],
   "source": [
    "cl_size = 20\n",
    "norm = 2\n",
    "factor =0.2\n",
    "\n",
    "CPT = pt.Compute()\n",
    "CPT.set(cl_size=cl_size, norm=norm, factor=factor)\n",
    "\n",
    "CPT.get_cl_size()"
   ]
  },
  {
   "cell_type": "code",
   "execution_count": 8,
   "id": "b58a2e47-a58a-4cd5-a508-544788457e2b",
   "metadata": {},
   "outputs": [],
   "source": [
    "\n",
    "Cl_test = CPT.calculate_exp_pspec(np.arange(cl_size))"
   ]
  },
  {
   "cell_type": "code",
   "execution_count": 4,
   "id": "b7ab9c51-fe18-46cf-a83c-70abec11f5b2",
   "metadata": {},
   "outputs": [
    {
     "name": "stdout",
     "output_type": "stream",
     "text": [
      "Hello, Niuniu!\n"
     ]
    },
    {
     "data": {
      "text/plain": [
       "3.0"
      ]
     },
     "execution_count": 4,
     "metadata": {},
     "output_type": "execute_result"
    }
   ],
   "source": [
    "TEST = pt.Test_Compute(1, 2)\n",
    "TEST.greet()\n",
    "TEST.add()"
   ]
  },
  {
   "cell_type": "code",
   "execution_count": 7,
   "id": "f081bcbe-d8a4-4a7c-9d80-442fc2eacd01",
   "metadata": {},
   "outputs": [
    {
     "data": {
      "text/plain": [
       "<matplotlib.legend.Legend at 0x7f9a38ba3d30>"
      ]
     },
     "execution_count": 7,
     "metadata": {},
     "output_type": "execute_result"
    },
    {
     "data": {
      "image/png": "[encoded data removed]",
      "text/plain": [
       "<Figure size 432x288 with 1 Axes>"
      ]
     },
     "metadata": {
      "needs_background": "light"
     },
     "output_type": "display_data"
    }
   ],
   "source": [
    "plt.plot(Cl['ell'], Cl['Cl'], label='pytoy exp')\n",
    "plt.plot(Cl_test['ell'], Cl_test['Cl'], label='pytoy exp')\n",
    "plt.plot(Cl['ell'], norm*np.exp(factor*Cl['ell']), label='numpy exp')\n",
    "plt.legend()\n",
    "# plt.yscale('log')"
   ]
  },
  {
   "cell_type": "code",
   "execution_count": null,
   "id": "48f544fc-651c-4ee9-bde3-b7192ca26dea",
   "metadata": {},
   "outputs": [],
   "source": []
  }
 ],
 "metadata": {
  "kernelspec": {
   "display_name": "Python 3",
   "language": "python",
   "name": "python3"
  },
  "language_info": {
   "codemirror_mode": {
    "name": "ipython",
    "version": 3
   },
   "file_extension": ".py",
   "mimetype": "text/x-python",
   "name": "python",
   "nbconvert_exporter": "python",
   "pygments_lexer": "ipython3",
   "version": "3.8.8"
  }
 },
 "nbformat": 4,
 "nbformat_minor": 5
}
